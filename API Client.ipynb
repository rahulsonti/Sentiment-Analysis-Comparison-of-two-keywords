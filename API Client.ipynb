{
 "cells": [
  {
   "cell_type": "code",
   "execution_count": 2,
   "metadata": {},
   "outputs": [],
   "source": [
    "import tweepy\n",
    "import webbrowser\n",
    "import time\n",
    "from textblob import TextBlob"
   ]
  },
  {
   "cell_type": "code",
   "execution_count": 3,
   "metadata": {},
   "outputs": [],
   "source": [
    "consumer_key = \"**INPUT YOUR KEY**\"\n",
    "consumer_secret = \"**INPUT YOUR KEY**\""
   ]
  },
  {
   "cell_type": "code",
   "execution_count": 4,
   "metadata": {},
   "outputs": [],
   "source": [
    "callback_uri ='oob'"
   ]
  },
  {
   "cell_type": "code",
   "execution_count": 24,
   "metadata": {},
   "outputs": [
    {
     "name": "stdout",
     "output_type": "stream",
     "text": [
      "https://api.twitter.com/oauth/authorize?oauth_token=5bbJ9gAAAAABLhCLAAABduprYZ0\n"
     ]
    }
   ],
   "source": [
    "auth = tweepy.OAuthHandler(consumer_key, consumer_secret, callback_uri) \n",
    "redirect_url = auth.get_authorization_url()\n",
    "print(redirect_url)"
   ]
  },
  {
   "cell_type": "code",
   "execution_count": 25,
   "metadata": {},
   "outputs": [
    {
     "data": {
      "text/plain": [
       "True"
      ]
     },
     "execution_count": 25,
     "metadata": {},
     "output_type": "execute_result"
    }
   ],
   "source": [
    "webbrowser.open(redirect_url)"
   ]
  },
  {
   "cell_type": "code",
   "execution_count": 26,
   "metadata": {},
   "outputs": [
    {
     "name": "stdout",
     "output_type": "stream",
     "text": [
      "Enter the pin value: 9231216\n"
     ]
    }
   ],
   "source": [
    "user_pint_input = input(\"Enter the pin value: \")"
   ]
  },
  {
   "cell_type": "code",
   "execution_count": 27,
   "metadata": {},
   "outputs": [
    {
     "data": {
      "text/plain": [
       "('1347841282190688257-VXFr1x9vw34siQuRQ4tO3pchhISD77',\n",
       " 'fl1XGiFLy5JapqX1tJvyA8Hayoob6uRPxshizZGfSPXlA')"
      ]
     },
     "execution_count": 27,
     "metadata": {},
     "output_type": "execute_result"
    }
   ],
   "source": [
    "auth.get_access_token(user_pint_input)"
   ]
  },
  {
   "cell_type": "code",
   "execution_count": 28,
   "metadata": {},
   "outputs": [
    {
     "name": "stdout",
     "output_type": "stream",
     "text": [
      "1347841282190688257-VXFr1x9vw34siQuRQ4tO3pchhISD77 fl1XGiFLy5JapqX1tJvyA8Hayoob6uRPxshizZGfSPXlA\n"
     ]
    }
   ],
   "source": [
    "print(auth.access_token, auth.access_token_secret)"
   ]
  },
  {
   "cell_type": "code",
   "execution_count": 29,
   "metadata": {},
   "outputs": [],
   "source": [
    "api = tweepy.API(auth, wait_on_rate_limit=True)"
   ]
  },
  {
   "cell_type": "code",
   "execution_count": 30,
   "metadata": {},
   "outputs": [],
   "source": [
    "me = api.me()"
   ]
  },
  {
   "cell_type": "code",
   "execution_count": 31,
   "metadata": {},
   "outputs": [
    {
     "name": "stdout",
     "output_type": "stream",
     "text": [
      "rahul_sonti\n"
     ]
    }
   ],
   "source": [
    "print(me.screen_name)"
   ]
  },
  {
   "cell_type": "code",
   "execution_count": 34,
   "metadata": {},
   "outputs": [
    {
     "name": "stdout",
     "output_type": "stream",
     "text": [
      "What does USA prefer?:\n",
      "Trump\n",
      "...or...\n",
      "Biden\n",
      "\n",
      "\n",
      "USA prefers Biden over Trump\n"
     ]
    }
   ],
   "source": [
    "import tweepy\n",
    "from textblob import TextBlob \n",
    "import preprocessor as p\n",
    "import statistics\n",
    "from typing import List\n",
    "\n",
    "\n",
    "consumer_key = \"lgs2JQ9A1o9FCVv6OryXW7fwk\"\n",
    "consumer_secret = \"0CqwSl0H9OYhSeNRB9MqVPsXI0VuAtF9NdQrm2XSUMCRwZEyLG\"\n",
    "\n",
    "def get_tweets(keyword:str) -> List[str]:\n",
    "    all_tweets = []\n",
    "    for tweet in tweepy.Cursor(api.search, q=keyword, tweet_mode = 'extended', lang = 'en').items(1000):\n",
    "        all_tweets.append(tweet.full_text)\n",
    "    return all_tweets\n",
    "\n",
    "def clean_tweets(all_tweets: List[str]) -> List[str]:\n",
    "    tweets_clean = []\n",
    "    for tweet in all_tweets:\n",
    "        tweets_clean.append(p.clean(tweet))\n",
    "    return tweets_clean\n",
    "\n",
    "def get_sentiment(tweets_clean: List[str]):\n",
    "    sentiment_score = []\n",
    "    for tweet in tweets_clean:\n",
    "        blob = TextBlob(tweet)\n",
    "        sentiment_score.append(blob.sentiment.polarity)\n",
    "    return sentiment_score\n",
    "\n",
    "def gen_avg_sentiment_score(keyword: str) -> int:\n",
    "    tweets = get_tweets(keyword)\n",
    "    tweets_clean = clean_tweets(tweets)\n",
    "    sentiment_scores = get_sentiment(tweets_clean)\n",
    "\n",
    "    average_score = statistics.mean(sentiment_scores)\n",
    "    return average_score\n",
    "\n",
    "if __name__ == \"__main__\":\n",
    "    print(\"What does USA prefer?:\")\n",
    "    firstthing = input()\n",
    "    print(\"...or...\")\n",
    "    second_thing = input()\n",
    "    print(\"\\n\")\n",
    "\n",
    "    first_score = gen_avg_sentiment_score(firstthing)\n",
    "    second_score = gen_avg_sentiment_score(second_thing)\n",
    "\n",
    "    if(first_score> second_score):\n",
    "        print(\"USA prefers \" + firstthing + \" over \" + second_thing)\n",
    "    else:\n",
    "        print(\"USA prefers \" + second_thing+ \" over \" + firstthing)"
   ]
  }
 ],
 "metadata": {
  "kernelspec": {
   "display_name": "Python 3",
   "language": "python",
   "name": "python3"
  },
  "language_info": {
   "codemirror_mode": {
    "name": "ipython",
    "version": 3
   },
   "file_extension": ".py",
   "mimetype": "text/x-python",
   "name": "python",
   "nbconvert_exporter": "python",
   "pygments_lexer": "ipython3",
   "version": "3.7.4"
  }
 },
 "nbformat": 4,
 "nbformat_minor": 2
}
